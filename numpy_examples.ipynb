{
 "cells": [
  {
   "cell_type": "markdown",
   "metadata": {},
   "source": [
    "# NumPy\n",
    "\n",
    "numpy is python's package for doing math that is more advanced than +-*/\n",
    "\n",
    "This includes special functions like cosine, exponential, sqrt, ...\n",
    "\n",
    "On top of this we can use numpy to generate samples from many types of random variables\n",
    "\n",
    "numpy also has a powerful data type to define vectors, matrices, and tensors\n",
    "\n",
    "With these data types numpy also allows us to do linear algebra - matrix multiplication and matrix-vector solutions"
   ]
  },
  {
   "cell_type": "code",
   "execution_count": 1,
   "metadata": {},
   "outputs": [],
   "source": [
    "# the first step of using numpy is to tell python to use it\n",
    "import numpy as np"
   ]
  },
  {
   "cell_type": "code",
   "execution_count": 2,
   "metadata": {},
   "outputs": [
    {
     "name": "stdout",
     "output_type": "stream",
     "text": [
      "-1.0\n",
      "1.1\n",
      "5.2\n"
     ]
    }
   ],
   "source": [
    "print(np.cos(np.pi))\n",
    "print(np.sqrt(1.21))\n",
    "print(np.log(np.exp(5.2)))"
   ]
  },
  {
   "cell_type": "code",
   "execution_count": 3,
   "metadata": {},
   "outputs": [
    {
     "name": "stdout",
     "output_type": "stream",
     "text": [
      "[1 2 3]\n",
      "\n",
      "[[1 2 1]\n",
      " [4 5 9]\n",
      " [1 8 9]]\n",
      "\n",
      "[[1 4 1]\n",
      " [2 5 8]\n",
      " [1 9 9]]\n"
     ]
    }
   ],
   "source": [
    "# we can create numpy arrays by converting lists\n",
    "# this is a vector\n",
    "vec = np.array([1,2,3])\n",
    "print(vec)\n",
    "# we can create matrices by converting lists of lists\n",
    "mat = np.array([[1,2,1],[4,5,9],[1,8,9]])\n",
    "print('')\n",
    "print(mat)\n",
    "print('')\n",
    "print(mat.T)"
   ]
  },
  {
   "cell_type": "code",
   "execution_count": 4,
   "metadata": {},
   "outputs": [
    {
     "name": "stdout",
     "output_type": "stream",
     "text": [
      "[ 0  1  2  3  4  5  6  7  8  9 10 11 12 13 14]\n",
      "\n",
      "[ 3  9 15]\n"
     ]
    }
   ],
   "source": [
    "# there are lots of other ways to create numpy arrays\n",
    "vec2 = np.arange(0,15)\n",
    "print(vec2)\n",
    "print('')\n",
    "vec3 = np.arange(3,21,6)\n",
    "print(vec3)"
   ]
  },
  {
   "cell_type": "code",
   "execution_count": 5,
   "metadata": {},
   "outputs": [
    {
     "name": "stdout",
     "output_type": "stream",
     "text": [
      "[0.         0.55555556 1.11111111 1.66666667 2.22222222 2.77777778\n",
      " 3.33333333 3.88888889 4.44444444 5.        ]\n",
      "\n",
      "[[0.         0.55555556]\n",
      " [1.11111111 1.66666667]\n",
      " [2.22222222 2.77777778]\n",
      " [3.33333333 3.88888889]\n",
      " [4.44444444 5.        ]]\n",
      "[[0.         0.55555556]\n",
      " [1.11111111 1.66666667]\n",
      " [2.22222222 2.77777778]\n",
      " [3.33333333 3.88888889]\n",
      " [4.44444444 5.        ]]\n",
      "[0.         0.55555556 1.11111111 1.66666667 2.22222222 2.77777778\n",
      " 3.33333333 3.88888889 4.44444444 5.        ]\n"
     ]
    }
   ],
   "source": [
    "vec4 = np.linspace(0,5,10)\n",
    "print(vec4)\n",
    "print('')\n",
    "print(vec4.reshape(5,2))\n",
    "vec4_reshaped = vec4.reshape(5,2)\n",
    "print(vec4_reshaped)\n",
    "print(vec4)"
   ]
  },
  {
   "cell_type": "code",
   "execution_count": 6,
   "metadata": {},
   "outputs": [
    {
     "name": "stdout",
     "output_type": "stream",
     "text": [
      "[[0. 0. 0.]\n",
      " [0. 0. 0.]\n",
      " [0. 0. 0.]\n",
      " [0. 0. 0.]\n",
      " [0. 0. 0.]]\n",
      "\n",
      "[[1. 1. 1. 1. 1.]\n",
      " [1. 1. 1. 1. 1.]\n",
      " [1. 1. 1. 1. 1.]]\n",
      "\n",
      "[[1. 0. 0. 0. 0.]\n",
      " [0. 1. 0. 0. 0.]\n",
      " [0. 0. 1. 0. 0.]\n",
      " [0. 0. 0. 1. 0.]\n",
      " [0. 0. 0. 0. 1.]]\n"
     ]
    }
   ],
   "source": [
    "mat2 = np.zeros([5,3])\n",
    "print(mat2)\n",
    "mat3 = np.ones((3,5))\n",
    "print('')\n",
    "print(mat3)\n",
    "mat4 = np.eye(5)\n",
    "print('')\n",
    "print(mat4)"
   ]
  },
  {
   "cell_type": "code",
   "execution_count": 7,
   "metadata": {},
   "outputs": [
    {
     "name": "stdout",
     "output_type": "stream",
     "text": [
      "[1 2 3 4 5]\n",
      "[3 4 5 6 7]\n",
      "[ 4  6  8 10 12]\n",
      "[ 3  8 15 24 35]\n",
      "[1.         0.5        0.33333333 0.25       0.2       ]\n",
      "[1.73205081 2.         2.23606798 2.44948974 2.64575131]\n"
     ]
    }
   ],
   "source": [
    "# we can +-*/ arrays together if they're the right size\n",
    "vec5 = np.arange(1,6)\n",
    "vec6 = np.arange(3,8)\n",
    "print(vec5)\n",
    "print(vec6)\n",
    "print(vec5+vec6)\n",
    "print(vec5*vec6)\n",
    "print(1/vec5)\n",
    "print(np.sqrt(vec6))"
   ]
  },
  {
   "cell_type": "code",
   "execution_count": 8,
   "metadata": {},
   "outputs": [
    {
     "name": "stdout",
     "output_type": "stream",
     "text": [
      "[[1 2 1]\n",
      " [4 5 9]\n",
      " [1 8 9]]\n",
      "\n",
      "[1 2 3]\n",
      "\n",
      "[ 8 41 44]\n"
     ]
    }
   ],
   "source": [
    "# we can do matrix multiplication\n",
    "print(mat)\n",
    "print('')\n",
    "print(vec)\n",
    "print()\n",
    "product = np.matmul(mat,vec)\n",
    "print(product)"
   ]
  },
  {
   "cell_type": "code",
   "execution_count": 9,
   "metadata": {},
   "outputs": [
    {
     "name": "stdout",
     "output_type": "stream",
     "text": [
      "[1. 2. 3.]\n",
      "\n",
      "[[ 0.5         0.18518519 -0.24074074]\n",
      " [ 0.5        -0.14814815  0.09259259]\n",
      " [-0.5         0.11111111  0.05555556]]\n"
     ]
    }
   ],
   "source": [
    "print(np.linalg.solve(mat,product))\n",
    "print('')\n",
    "print(np.linalg.inv(mat))"
   ]
  },
  {
   "cell_type": "code",
   "execution_count": 10,
   "metadata": {},
   "outputs": [
    {
     "name": "stdout",
     "output_type": "stream",
     "text": [
      "['blue' 'red' 'orange' 'purple' 'purple' 'orange' 'Red' '6']\n",
      "['6' 'Red' 'blue' 'orange' 'purple' 'red']\n"
     ]
    }
   ],
   "source": [
    "# we can find the unique values in an array\n",
    "vec7 = np.array(['blue','red','orange','purple','purple','orange','Red',6])\n",
    "print(vec7)\n",
    "print(np.unique(vec7))"
   ]
  },
  {
   "cell_type": "code",
   "execution_count": 11,
   "metadata": {},
   "outputs": [
    {
     "name": "stdout",
     "output_type": "stream",
     "text": [
      "[[0.79722275 0.69499419 0.89657822 0.62219935 0.87791835]\n",
      " [0.84262257 0.41993415 0.54186589 0.24687494 0.13403484]\n",
      " [0.89972225 0.72795285 0.55208793 0.72054337 0.68884893]\n",
      " [0.38167603 0.23559377 0.76056444 0.28413083 0.09386148]\n",
      " [0.81135631 0.46206828 0.20109821 0.45468602 0.24653542]]\n",
      "\n",
      "[[ 1.15601659 -0.03705332 -1.55463105 -0.9367318   2.05231331]\n",
      " [-0.22921226  0.33226061  0.3371321   0.23970124  1.10892502]\n",
      " [-0.94874958 -2.88686055 -1.21444653 -0.25821163  1.10207157]\n",
      " [ 2.08487599  1.55572158 -1.888009   -1.57331505 -0.30195061]\n",
      " [ 1.45325111  0.14058749  1.19574066 -1.89834959 -0.07656611]\n",
      " [-1.09096625 -0.8899673   0.48588796 -1.47284533  0.35610287]\n",
      " [-1.5271853   0.04266859  2.31906006 -0.87135291 -1.35711202]\n",
      " [-0.77081519 -0.23389945  0.38086826 -1.58760146  1.55038027]\n",
      " [-0.14468112 -0.85108683  0.37103356  1.70891691  0.9537487 ]\n",
      " [ 0.40259713  0.82485511 -0.31202305 -0.29892451  1.48750226]]\n"
     ]
    }
   ],
   "source": [
    "# we can also use numpy to generate samples of a random variable\n",
    "rand_mat = np.random.rand(5,5) # uniform random variable\n",
    "print(rand_mat)\n",
    "rand_mat2 = np.random.randn(10,5) # standard normal random variable\n",
    "print('')\n",
    "print(rand_mat2)"
   ]
  },
  {
   "cell_type": "code",
   "execution_count": 12,
   "metadata": {},
   "outputs": [
    {
     "name": "stdout",
     "output_type": "stream",
     "text": [
      "0.543798855117003\n",
      "1.1909523067845837\n"
     ]
    }
   ],
   "source": [
    "# we can also use numpy for statistical tools on arrays\n",
    "print(np.mean(rand_mat))\n",
    "print(np.std(rand_mat2))"
   ]
  },
  {
   "cell_type": "code",
   "execution_count": 13,
   "metadata": {},
   "outputs": [
    {
     "name": "stdout",
     "output_type": "stream",
     "text": [
      "0.09386148216436319\n",
      "2.3190600645978905\n"
     ]
    }
   ],
   "source": [
    "print(np.min(rand_mat))\n",
    "print(np.max(rand_mat2))"
   ]
  },
  {
   "cell_type": "code",
   "execution_count": null,
   "metadata": {},
   "outputs": [],
   "source": [
    "# break here for next video!"
   ]
  },
  {
   "cell_type": "code",
   "execution_count": 14,
   "metadata": {},
   "outputs": [
    {
     "name": "stdout",
     "output_type": "stream",
     "text": [
      "[-0.67484578 -2.47762314  1.7575114   0.72411968  1.31165573 -1.07452566\n",
      " -0.43648419 -0.2262583   0.56926804  0.03414228 -2.29033813 -0.19723797\n",
      " -0.85041241  0.16572374  0.26811943 -0.11563363  0.14505201  0.50215215\n",
      "  0.28388068]\n",
      "-0.43648419263154487\n"
     ]
    }
   ],
   "source": [
    "# how do we access entries in a numpy vector\n",
    "rand_vec = np.random.randn(19)\n",
    "print(rand_vec)\n",
    "print(rand_vec[6])"
   ]
  },
  {
   "cell_type": "code",
   "execution_count": 15,
   "metadata": {},
   "outputs": [
    {
     "name": "stdout",
     "output_type": "stream",
     "text": [
      "[ 1.31165573 -1.07452566 -0.43648419 -0.2262583   0.56926804]\n"
     ]
    }
   ],
   "source": [
    "# we can access multiple entries at once using :\n",
    "print(rand_vec[4:9])"
   ]
  },
  {
   "cell_type": "code",
   "execution_count": 16,
   "metadata": {},
   "outputs": [
    {
     "name": "stdout",
     "output_type": "stream",
     "text": [
      "[ 0  3  6  9 12]\n",
      "[-0.67484578  0.72411968 -0.43648419  0.03414228 -0.85041241]\n"
     ]
    }
   ],
   "source": [
    "# we can also access multiple non-consecutive entries using np.arange\n",
    "print(np.arange(0,15,3))\n",
    "print(rand_vec[np.arange(0,15,3)])"
   ]
  },
  {
   "cell_type": "code",
   "execution_count": 17,
   "metadata": {},
   "outputs": [
    {
     "name": "stdout",
     "output_type": "stream",
     "text": [
      "[[0.79722275 0.69499419 0.89657822 0.62219935 0.87791835]\n",
      " [0.84262257 0.41993415 0.54186589 0.24687494 0.13403484]\n",
      " [0.89972225 0.72795285 0.55208793 0.72054337 0.68884893]\n",
      " [0.38167603 0.23559377 0.76056444 0.28413083 0.09386148]\n",
      " [0.81135631 0.46206828 0.20109821 0.45468602 0.24653542]]\n",
      "0.5418658943732779\n",
      "0.5418658943732779\n"
     ]
    }
   ],
   "source": [
    "# what about matrices\n",
    "print(rand_mat)\n",
    "print(rand_mat[1][2])\n",
    "print(rand_mat[1,2])"
   ]
  },
  {
   "cell_type": "code",
   "execution_count": 18,
   "metadata": {},
   "outputs": [
    {
     "name": "stdout",
     "output_type": "stream",
     "text": [
      "[[0.69499419 0.89657822]\n",
      " [0.41993415 0.54186589]]\n"
     ]
    }
   ],
   "source": [
    "print(rand_mat[0:2,1:3])"
   ]
  },
  {
   "cell_type": "code",
   "execution_count": 19,
   "metadata": {},
   "outputs": [
    {
     "name": "stdout",
     "output_type": "stream",
     "text": [
      "[-0.67484578 -2.47762314  1.7575114   0.72411968  1.31165573 -1.07452566\n",
      " -0.43648419 -0.2262583   0.56926804  0.03414228 -2.29033813 -0.19723797\n",
      " -0.85041241  0.16572374  0.26811943 -0.11563363  0.14505201  0.50215215\n",
      "  0.28388068]\n",
      "\n",
      "[-0.67484578 -2.47762314  1.7575114   4.          4.         -1.07452566\n",
      " -0.43648419 -0.2262583   0.56926804  0.03414228 -2.29033813 -0.19723797\n",
      " -0.85041241  0.16572374  0.26811943 -0.11563363  0.14505201  0.50215215\n",
      "  0.28388068]\n",
      "\n",
      "[-0.67484578 -2.47762314  1.7575114   1.          2.         -1.07452566\n",
      " -0.43648419 -0.2262583   0.56926804  0.03414228 -2.29033813 -0.19723797\n",
      " -0.85041241  0.16572374  0.26811943 -0.11563363  0.14505201  0.50215215\n",
      "  0.28388068]\n"
     ]
    }
   ],
   "source": [
    "# let's change some values in an array!\n",
    "print(rand_vec)\n",
    "rand_vec[3:5] = 4\n",
    "print('')\n",
    "print(rand_vec)\n",
    "rand_vec[3:5] = [1,2]\n",
    "print('')\n",
    "print(rand_vec)"
   ]
  },
  {
   "cell_type": "code",
   "execution_count": 20,
   "metadata": {},
   "outputs": [
    {
     "name": "stdout",
     "output_type": "stream",
     "text": [
      "[[0.79722275 0.69499419 0.89657822 0.62219935 0.87791835]\n",
      " [0.84262257 0.41993415 0.54186589 0.24687494 0.13403484]\n",
      " [0.89972225 0.72795285 0.55208793 0.72054337 0.68884893]\n",
      " [0.38167603 0.23559377 0.76056444 0.28413083 0.09386148]\n",
      " [0.81135631 0.46206828 0.20109821 0.45468602 0.24653542]]\n",
      "\n",
      "[[0.79722275 0.69499419 0.89657822 0.62219935 0.87791835]\n",
      " [0.84262257 0.41993415 0.54186589 0.         0.        ]\n",
      " [0.89972225 0.72795285 0.55208793 0.         0.        ]\n",
      " [0.38167603 0.23559377 0.76056444 0.28413083 0.09386148]\n",
      " [0.81135631 0.46206828 0.20109821 0.45468602 0.24653542]]\n"
     ]
    }
   ],
   "source": [
    "print(rand_mat)\n",
    "rand_mat[1:3,3:5] = 0\n",
    "print('')\n",
    "print(rand_mat)"
   ]
  },
  {
   "cell_type": "code",
   "execution_count": 21,
   "metadata": {},
   "outputs": [
    {
     "name": "stdout",
     "output_type": "stream",
     "text": [
      "[[0.79722275 0.69499419 0.89657822]\n",
      " [0.84262257 0.41993415 0.54186589]]\n",
      "[[3. 3. 3.]\n",
      " [3. 3. 3.]]\n"
     ]
    }
   ],
   "source": [
    "sub_mat = rand_mat[0:2,0:3]\n",
    "print(sub_mat)\n",
    "sub_mat[:] = 3\n",
    "print(sub_mat)"
   ]
  },
  {
   "cell_type": "code",
   "execution_count": 22,
   "metadata": {},
   "outputs": [
    {
     "name": "stdout",
     "output_type": "stream",
     "text": [
      "[[3.         3.         3.         0.62219935 0.87791835]\n",
      " [3.         3.         3.         0.         0.        ]\n",
      " [0.89972225 0.72795285 0.55208793 0.         0.        ]\n",
      " [0.38167603 0.23559377 0.76056444 0.28413083 0.09386148]\n",
      " [0.81135631 0.46206828 0.20109821 0.45468602 0.24653542]]\n"
     ]
    }
   ],
   "source": [
    "print(rand_mat)"
   ]
  },
  {
   "cell_type": "code",
   "execution_count": 23,
   "metadata": {},
   "outputs": [
    {
     "name": "stdout",
     "output_type": "stream",
     "text": [
      "[[99. 99. 99.]\n",
      " [99. 99. 99.]]\n",
      "[[3.         3.         3.         0.62219935 0.87791835]\n",
      " [3.         3.         3.         0.         0.        ]\n",
      " [0.89972225 0.72795285 0.55208793 0.         0.        ]\n",
      " [0.38167603 0.23559377 0.76056444 0.28413083 0.09386148]\n",
      " [0.81135631 0.46206828 0.20109821 0.45468602 0.24653542]]\n"
     ]
    }
   ],
   "source": [
    "sub_mat2 = rand_mat[0:2,0:3].copy()\n",
    "sub_mat2[:] = 99\n",
    "print(sub_mat2)\n",
    "print(rand_mat)"
   ]
  },
  {
   "cell_type": "code",
   "execution_count": null,
   "metadata": {},
   "outputs": [],
   "source": [
    "# break here for next video"
   ]
  },
  {
   "cell_type": "code",
   "execution_count": 24,
   "metadata": {},
   "outputs": [
    {
     "name": "stdout",
     "output_type": "stream",
     "text": [
      "[ 1.12869129  1.01063695 -0.14063057  0.69793087 -1.02329522  0.20442222\n",
      " -2.29667789 -0.50289584  0.61344234  1.86953581  0.11466314 -0.23299373\n",
      "  1.15625688  0.12980032  1.27861898]\n",
      "[ True  True False  True False  True False False  True  True  True False\n",
      "  True  True  True]\n",
      "[1.12869129 1.01063695 0.69793087 0.20442222 0.61344234 1.86953581\n",
      " 0.11466314 1.15625688 0.12980032 1.27861898]\n"
     ]
    }
   ],
   "source": [
    "# we can also access entries with logicals\n",
    "rand_vec = np.random.randn(15)\n",
    "\n",
    "print(rand_vec)\n",
    "print(rand_vec>0)\n",
    "print(rand_vec[rand_vec>0])"
   ]
  },
  {
   "cell_type": "code",
   "execution_count": 25,
   "metadata": {},
   "outputs": [
    {
     "name": "stdout",
     "output_type": "stream",
     "text": [
      "[[ 1.15601659 -0.03705332 -1.55463105 -0.9367318   2.05231331]\n",
      " [-0.22921226  0.33226061  0.3371321   0.23970124  1.10892502]\n",
      " [-0.94874958 -2.88686055 -1.21444653 -0.25821163  1.10207157]\n",
      " [ 2.08487599  1.55572158 -1.888009   -1.57331505 -0.30195061]\n",
      " [ 1.45325111  0.14058749  1.19574066 -1.89834959 -0.07656611]\n",
      " [-1.09096625 -0.8899673   0.48588796 -1.47284533  0.35610287]\n",
      " [-1.5271853   0.04266859  2.31906006 -0.87135291 -1.35711202]\n",
      " [-0.77081519 -0.23389945  0.38086826 -1.58760146  1.55038027]\n",
      " [-0.14468112 -0.85108683  0.37103356  1.70891691  0.9537487 ]\n",
      " [ 0.40259713  0.82485511 -0.31202305 -0.29892451  1.48750226]]\n",
      "[1.15601659 2.05231331 0.33226061 0.3371321  0.23970124 1.10892502\n",
      " 1.10207157 2.08487599 1.55572158 1.45325111 0.14058749 1.19574066\n",
      " 0.48588796 0.35610287 0.04266859 2.31906006 0.38086826 1.55038027\n",
      " 0.37103356 1.70891691 0.9537487  0.40259713 0.82485511 1.48750226]\n"
     ]
    }
   ],
   "source": [
    "print(rand_mat2)\n",
    "print(rand_mat2[rand_mat2>0])"
   ]
  },
  {
   "cell_type": "code",
   "execution_count": 26,
   "metadata": {},
   "outputs": [
    {
     "name": "stdout",
     "output_type": "stream",
     "text": [
      "[ 1.12869129  1.01063695 -0.14063057  0.69793087 -1.02329522  0.20442222\n",
      " -2.29667789 -0.50289584  0.61344234  1.86953581  0.11466314 -0.23299373\n",
      "  1.15625688  0.12980032  1.27861898]\n",
      "\n",
      "[-5.         -5.         -0.14063057 -5.         -1.02329522  0.20442222\n",
      " -2.29667789 -0.50289584 -5.         -5.          0.11466314 -0.23299373\n",
      " -5.          0.12980032 -5.        ]\n"
     ]
    }
   ],
   "source": [
    "print(rand_vec)\n",
    "print('')\n",
    "rand_vec[rand_vec>0.5] = -5\n",
    "print(rand_vec)"
   ]
  },
  {
   "cell_type": "code",
   "execution_count": 27,
   "metadata": {},
   "outputs": [],
   "source": [
    "# let's save some arrays on the disk for use later!\n",
    "np.save('saved_file_name',rand_mat2)\n"
   ]
  },
  {
   "cell_type": "code",
   "execution_count": 28,
   "metadata": {},
   "outputs": [],
   "source": [
    "np.savez('zipped_file_name',rand_mat=rand_mat,rand_mat2=rand_mat2)"
   ]
  },
  {
   "cell_type": "code",
   "execution_count": 29,
   "metadata": {},
   "outputs": [
    {
     "name": "stdout",
     "output_type": "stream",
     "text": [
      "[[ 1.15601659 -0.03705332 -1.55463105 -0.9367318   2.05231331]\n",
      " [-0.22921226  0.33226061  0.3371321   0.23970124  1.10892502]\n",
      " [-0.94874958 -2.88686055 -1.21444653 -0.25821163  1.10207157]\n",
      " [ 2.08487599  1.55572158 -1.888009   -1.57331505 -0.30195061]\n",
      " [ 1.45325111  0.14058749  1.19574066 -1.89834959 -0.07656611]\n",
      " [-1.09096625 -0.8899673   0.48588796 -1.47284533  0.35610287]\n",
      " [-1.5271853   0.04266859  2.31906006 -0.87135291 -1.35711202]\n",
      " [-0.77081519 -0.23389945  0.38086826 -1.58760146  1.55038027]\n",
      " [-0.14468112 -0.85108683  0.37103356  1.70891691  0.9537487 ]\n",
      " [ 0.40259713  0.82485511 -0.31202305 -0.29892451  1.48750226]]\n",
      "\n",
      "<numpy.lib.npyio.NpzFile object at 0x00000232D880FFA0>\n"
     ]
    }
   ],
   "source": [
    "# now let's load it\n",
    "loaded_vec = np.load('saved_file_name.npy')\n",
    "loaded_zip = np.load('zipped_file_name.npz')\n",
    "\n",
    "print(loaded_vec)\n",
    "print('')\n",
    "print(loaded_zip)"
   ]
  },
  {
   "cell_type": "code",
   "execution_count": 30,
   "metadata": {},
   "outputs": [
    {
     "name": "stdout",
     "output_type": "stream",
     "text": [
      "[[3.         3.         3.         0.62219935 0.87791835]\n",
      " [3.         3.         3.         0.         0.        ]\n",
      " [0.89972225 0.72795285 0.55208793 0.         0.        ]\n",
      " [0.38167603 0.23559377 0.76056444 0.28413083 0.09386148]\n",
      " [0.81135631 0.46206828 0.20109821 0.45468602 0.24653542]]\n",
      "\n",
      "[[ 1.15601659 -0.03705332 -1.55463105 -0.9367318   2.05231331]\n",
      " [-0.22921226  0.33226061  0.3371321   0.23970124  1.10892502]\n",
      " [-0.94874958 -2.88686055 -1.21444653 -0.25821163  1.10207157]\n",
      " [ 2.08487599  1.55572158 -1.888009   -1.57331505 -0.30195061]\n",
      " [ 1.45325111  0.14058749  1.19574066 -1.89834959 -0.07656611]\n",
      " [-1.09096625 -0.8899673   0.48588796 -1.47284533  0.35610287]\n",
      " [-1.5271853   0.04266859  2.31906006 -0.87135291 -1.35711202]\n",
      " [-0.77081519 -0.23389945  0.38086826 -1.58760146  1.55038027]\n",
      " [-0.14468112 -0.85108683  0.37103356  1.70891691  0.9537487 ]\n",
      " [ 0.40259713  0.82485511 -0.31202305 -0.29892451  1.48750226]]\n",
      "[[3.         3.         3.         0.62219935 0.87791835]\n",
      " [3.         3.         3.         0.         0.        ]\n",
      " [0.89972225 0.72795285 0.55208793 0.         0.        ]\n",
      " [0.38167603 0.23559377 0.76056444 0.28413083 0.09386148]\n",
      " [0.81135631 0.46206828 0.20109821 0.45468602 0.24653542]]\n"
     ]
    }
   ],
   "source": [
    "print(loaded_zip['rand_mat'])\n",
    "print('')\n",
    "print(loaded_zip['rand_mat2'])\n",
    "\n",
    "new_array  = loaded_zip['rand_mat']\n",
    "print(new_array)"
   ]
  },
  {
   "cell_type": "code",
   "execution_count": 31,
   "metadata": {},
   "outputs": [
    {
     "name": "stdout",
     "output_type": "stream",
     "text": [
      "[[3.         3.         3.         0.62219935 0.87791835]\n",
      " [3.         3.         3.         0.         0.        ]\n",
      " [0.89972225 0.72795285 0.55208793 0.         0.        ]\n",
      " [0.38167603 0.23559377 0.76056444 0.28413083 0.09386148]\n",
      " [0.81135631 0.46206828 0.20109821 0.45468602 0.24653542]]\n",
      "\n",
      "[[3.         3.         3.         0.62219935 0.87791835]\n",
      " [3.         3.         3.         0.         0.        ]\n",
      " [0.89972225 0.72795285 0.55208793 0.         0.        ]\n",
      " [0.38167603 0.23559377 0.76056444 0.28413083 0.09386148]\n",
      " [0.81135631 0.46206828 0.20109821 0.45468602 0.24653542]]\n"
     ]
    }
   ],
   "source": [
    "# we can also save/load as text files...but only single variables\n",
    "np.savetxt('text_file_name.txt',rand_mat,delimiter=',')\n",
    "rand_mat_txt = np.loadtxt('text_file_name.txt',delimiter=',')\n",
    "print(rand_mat)\n",
    "print('')\n",
    "print(rand_mat_txt)"
   ]
  },
  {
   "cell_type": "code",
   "execution_count": null,
   "metadata": {},
   "outputs": [],
   "source": []
  }
 ],
 "metadata": {
  "kernelspec": {
   "display_name": "Python 3",
   "language": "python",
   "name": "python3"
  },
  "language_info": {
   "codemirror_mode": {
    "name": "ipython",
    "version": 3
   },
   "file_extension": ".py",
   "mimetype": "text/x-python",
   "name": "python",
   "nbconvert_exporter": "python",
   "pygments_lexer": "ipython3",
   "version": "3.8.8"
  }
 },
 "nbformat": 4,
 "nbformat_minor": 2
}
